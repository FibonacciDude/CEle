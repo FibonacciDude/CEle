{
 "cells": [
  {
   "cell_type": "code",
   "execution_count": 6,
   "id": "e00a25d4",
   "metadata": {},
   "outputs": [
    {
     "ename": "NameError",
     "evalue": "name 'connection_type' is not defined",
     "output_type": "error",
     "traceback": [
      "\u001b[0;31m---------------------------------------------------------------------------\u001b[0m",
      "\u001b[0;31mNameError\u001b[0m                                 Traceback (most recent call last)",
      "\u001b[0;32m<ipython-input-6-4b36be5ef079>\u001b[0m in \u001b[0;36m<module>\u001b[0;34m\u001b[0m\n\u001b[1;32m     36\u001b[0m     \u001b[0mgraph\u001b[0m\u001b[0;34m.\u001b[0m\u001b[0madd_node\u001b[0m\u001b[0;34m(\u001b[0m\u001b[0mB\u001b[0m\u001b[0;34m[\u001b[0m\u001b[0mc\u001b[0m\u001b[0;34m]\u001b[0m\u001b[0;34m)\u001b[0m\u001b[0;34m\u001b[0m\u001b[0;34m\u001b[0m\u001b[0m\n\u001b[1;32m     37\u001b[0m     edge_attributes = {\n\u001b[0;32m---> 38\u001b[0;31m         \u001b[0mconnection_type\u001b[0m\u001b[0;34m:\u001b[0m \u001b[0mconnection_type\u001b[0m\u001b[0;34m[\u001b[0m\u001b[0mc\u001b[0m\u001b[0;34m]\u001b[0m\u001b[0;34m,\u001b[0m\u001b[0;34m\u001b[0m\u001b[0;34m\u001b[0m\u001b[0m\n\u001b[0m\u001b[1;32m     39\u001b[0m         \u001b[0mneurotransmitter\u001b[0m\u001b[0;34m:\u001b[0m \u001b[0mneurotransmitter_types\u001b[0m\u001b[0;34m[\u001b[0m\u001b[0mc\u001b[0m\u001b[0;34m]\u001b[0m\u001b[0;34m\u001b[0m\u001b[0;34m\u001b[0m\u001b[0m\n\u001b[1;32m     40\u001b[0m     }\n",
      "\u001b[0;31mNameError\u001b[0m: name 'connection_type' is not defined"
     ]
    }
   ],
   "source": [
    "import networkx as nx\n",
    "import pandas as pd\n",
    "\n",
    "connectome = pd.read_excel('./CElegansNeuronTables.xls',sheet_name=\"Connectome\").values\n",
    "\n",
    "# Getting Edge As\n",
    "A = connectome[:,0]\n",
    "# Getting Edge Bs\n",
    "B = connectome[:,1]\n",
    "\n",
    "connection_types = connectome[:,2]\n",
    "num_connections = connectome[:,3]\n",
    "neurotransmitter_types = connectome[:,4]\n",
    "\n",
    "graph = nx.MultiDiGraph()\n",
    "\n",
    "neurotransmitters = [u'Acetylcholine', u'Acetylcholine_GJ', u'Acetylcholine_Tyramine',\n",
    "       u'Acetylcholine_Tyramine_GJ', u'Dopamine', u'Dopamine_GJ',\n",
    "       u'FMRFamide', u'FMRFamide_GJ', u'FRMFemide', u'FRMFemide_GJ',\n",
    "       u'GABA', u'GABA_GJ', u'Glutamate', u'Glutamate_GJ', u'Octapamine',\n",
    "       u'Octapamine_GJ', u'Serotonin', u'Serotonin_Acetylcholine',\n",
    "       u'Serotonin_Acetylcholine_GJ', u'Serotonin_GJ',\n",
    "       u'Serotonin_Glutamate', u'Serotonin_Glutamate_GJ']\n",
    "\n",
    "colormap = {\n",
    "    \n",
    "    \n",
    "}\n",
    "\n",
    "\n",
    "drawing_colors = []\n",
    "\n",
    "# Collects data for node_peers and node_index\n",
    "for c in range(len(A)):\n",
    "    graph.add_node(A[c])\n",
    "    graph.add_node(B[c])\n",
    "    edge_attributes = {\n",
    "        connection_type: connection_type[c],\n",
    "        neurotransmitter: neurotransmitter_types[c]\n",
    "    }\n",
    "    \n",
    "    graph.add_edge(A[c],\n",
    "                   B[c], \n",
    "                   connection_type=connection_type[c],\n",
    "                   neurotransmitter=neurotransmitter_types[c])\n",
    "    "
   ]
  },
  {
   "cell_type": "code",
   "execution_count": 16,
   "id": "8acf7b8c",
   "metadata": {},
   "outputs": [
    {
     "ename": "ParseError",
     "evalue": "not well-formed (invalid token): line 90, column 88 (<string>)",
     "output_type": "error",
     "traceback": [
      "Traceback \u001b[0;36m(most recent call last)\u001b[0m:\n",
      "  File \u001b[1;32m\"/opt/anaconda3/lib/python3.8/site-packages/IPython/core/interactiveshell.py\"\u001b[0m, line \u001b[1;32m3437\u001b[0m, in \u001b[1;35mrun_code\u001b[0m\n    exec(code_obj, self.user_global_ns, self.user_ns)\n",
      "  File \u001b[1;32m\"<ipython-input-16-98e05a8e3c52>\"\u001b[0m, line \u001b[1;32m8\u001b[0m, in \u001b[1;35m<module>\u001b[0m\n    G = nx.read_graphml('nematode_connectome.graphml')\n",
      "  File \u001b[1;32m\"/opt/anaconda3/lib/python3.8/site-packages/decorator.py\"\u001b[0m, line \u001b[1;32m231\u001b[0m, in \u001b[1;35mfun\u001b[0m\n    es = ''\n",
      "  File \u001b[1;32m\"/opt/anaconda3/lib/python3.8/site-packages/networkx/utils/decorators.py\"\u001b[0m, line \u001b[1;32m239\u001b[0m, in \u001b[1;35m_open_file\u001b[0m\n    result = func_to_be_decorated(*new_args, **kwargs)\n",
      "  File \u001b[1;32m\"/opt/anaconda3/lib/python3.8/site-packages/networkx/readwrite/graphml.py\"\u001b[0m, line \u001b[1;32m258\u001b[0m, in \u001b[1;35mread_graphml\u001b[0m\n    glist = list(reader(path=path))\n",
      "  File \u001b[1;32m\"/opt/anaconda3/lib/python3.8/site-packages/networkx/readwrite/graphml.py\"\u001b[0m, line \u001b[1;32m770\u001b[0m, in \u001b[1;35m__call__\u001b[0m\n    self.xml = ElementTree(file=path)\n",
      "  File \u001b[1;32m\"/opt/anaconda3/lib/python3.8/xml/etree/ElementTree.py\"\u001b[0m, line \u001b[1;32m555\u001b[0m, in \u001b[1;35m__init__\u001b[0m\n    self.parse(file)\n",
      "\u001b[0;36m  File \u001b[0;32m\"/opt/anaconda3/lib/python3.8/xml/etree/ElementTree.py\"\u001b[0;36m, line \u001b[0;32m595\u001b[0;36m, in \u001b[0;35mparse\u001b[0;36m\u001b[0m\n\u001b[0;31m    self._root = parser._parse_whole(source)\u001b[0m\n",
      "\u001b[0;36m  File \u001b[0;32m\"<string>\"\u001b[0;36m, line \u001b[0;32munknown\u001b[0m\n\u001b[0;31mParseError\u001b[0m\u001b[0;31m:\u001b[0m not well-formed (invalid token): line 90, column 88\n"
     ]
    }
   ],
   "source": [
    "from scipy import io\n",
    "import pandas as pd\n",
    "import numpy as np\n",
    "import pprint\n",
    "import networkx as nx\n",
    "\n",
    "from matplotlib import pyplot, patches\n",
    "G = nx.read_graphml('nematode_connectome.graphml')\n",
    "\n",
    "adjacency_matrix = nx.to_numpy_matrix(G, dtype=np.bool, nodelist=None)\n",
    "\n",
    "\n",
    "#Plot adjacency matrix in toned-down black and white\n",
    "fig = pyplot.figure(figsize=(5, 5)) # in inches\n",
    "pyplot.imshow(adjacency_matrix,\n",
    "              cmap=\"Greys\",\n",
    "              interpolation=\"none\")\n",
    "\n",
    "pyplot.show()\n"
   ]
  },
  {
   "cell_type": "code",
   "execution_count": null,
   "id": "8f676a33",
   "metadata": {},
   "outputs": [],
   "source": [
    "\n"
   ]
  },
  {
   "cell_type": "code",
   "execution_count": null,
   "id": "3e012852",
   "metadata": {},
   "outputs": [],
   "source": []
  }
 ],
 "metadata": {
  "kernelspec": {
   "display_name": "Python 3",
   "language": "python",
   "name": "python3"
  },
  "language_info": {
   "codemirror_mode": {
    "name": "ipython",
    "version": 3
   },
   "file_extension": ".py",
   "mimetype": "text/x-python",
   "name": "python",
   "nbconvert_exporter": "python",
   "pygments_lexer": "ipython3",
   "version": "3.8.8"
  }
 },
 "nbformat": 4,
 "nbformat_minor": 5
}
